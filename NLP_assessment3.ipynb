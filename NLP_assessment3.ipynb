{
  "cells": [
    {
      "cell_type": "markdown",
      "metadata": {
        "id": "JCXv4pdGDkYf"
      },
      "source": [
        "# CROSS DOMAIN TRANSFER NLP ASS 3"
      ]
    },
    {
      "cell_type": "code",
      "execution_count": 16,
      "metadata": {
        "colab": {
          "base_uri": "https://localhost:8080/"
        },
        "id": "cHNfBkfZRswQ",
        "outputId": "aaed26c2-261d-42da-cee4-dc324c26adfc"
      },
      "outputs": [
        {
          "name": "stdout",
          "output_type": "stream",
          "text": [
            "Requirement already satisfied: transformers in /usr/local/lib/python3.11/dist-packages (4.55.0)\n",
            "Requirement already satisfied: datasets in /usr/local/lib/python3.11/dist-packages (4.0.0)\n",
            "Requirement already satisfied: torch in /usr/local/lib/python3.11/dist-packages (2.6.0+cu124)\n",
            "Requirement already satisfied: scikit-learn in /usr/local/lib/python3.11/dist-packages (1.6.1)\n",
            "Requirement already satisfied: matplotlib in /usr/local/lib/python3.11/dist-packages (3.10.0)\n",
            "Requirement already satisfied: seaborn in /usr/local/lib/python3.11/dist-packages (0.13.2)\n",
            "Requirement already satisfied: filelock in /usr/local/lib/python3.11/dist-packages (from transformers) (3.18.0)\n",
            "Requirement already satisfied: huggingface-hub<1.0,>=0.34.0 in /usr/local/lib/python3.11/dist-packages (from transformers) (0.34.3)\n",
            "Requirement already satisfied: numpy>=1.17 in /usr/local/lib/python3.11/dist-packages (from transformers) (2.0.2)\n",
            "Requirement already satisfied: packaging>=20.0 in /usr/local/lib/python3.11/dist-packages (from transformers) (25.0)\n",
            "Requirement already satisfied: pyyaml>=5.1 in /usr/local/lib/python3.11/dist-packages (from transformers) (6.0.2)\n",
            "Requirement already satisfied: regex!=2019.12.17 in /usr/local/lib/python3.11/dist-packages (from transformers) (2024.11.6)\n",
            "Requirement already satisfied: requests in /usr/local/lib/python3.11/dist-packages (from transformers) (2.32.3)\n",
            "Requirement already satisfied: tokenizers<0.22,>=0.21 in /usr/local/lib/python3.11/dist-packages (from transformers) (0.21.4)\n",
            "Requirement already satisfied: safetensors>=0.4.3 in /usr/local/lib/python3.11/dist-packages (from transformers) (0.6.1)\n",
            "Requirement already satisfied: tqdm>=4.27 in /usr/local/lib/python3.11/dist-packages (from transformers) (4.67.1)\n",
            "Requirement already satisfied: pyarrow>=15.0.0 in /usr/local/lib/python3.11/dist-packages (from datasets) (18.1.0)\n",
            "Requirement already satisfied: dill<0.3.9,>=0.3.0 in /usr/local/lib/python3.11/dist-packages (from datasets) (0.3.8)\n",
            "Requirement already satisfied: pandas in /usr/local/lib/python3.11/dist-packages (from datasets) (2.2.2)\n",
            "Requirement already satisfied: xxhash in /usr/local/lib/python3.11/dist-packages (from datasets) (3.5.0)\n",
            "Requirement already satisfied: multiprocess<0.70.17 in /usr/local/lib/python3.11/dist-packages (from datasets) (0.70.16)\n",
            "Requirement already satisfied: fsspec<=2025.3.0,>=2023.1.0 in /usr/local/lib/python3.11/dist-packages (from fsspec[http]<=2025.3.0,>=2023.1.0->datasets) (2025.3.0)\n",
            "Requirement already satisfied: typing-extensions>=4.10.0 in /usr/local/lib/python3.11/dist-packages (from torch) (4.14.1)\n",
            "Requirement already satisfied: networkx in /usr/local/lib/python3.11/dist-packages (from torch) (3.5)\n",
            "Requirement already satisfied: jinja2 in /usr/local/lib/python3.11/dist-packages (from torch) (3.1.6)\n",
            "Requirement already satisfied: nvidia-cuda-nvrtc-cu12==12.4.127 in /usr/local/lib/python3.11/dist-packages (from torch) (12.4.127)\n",
            "Requirement already satisfied: nvidia-cuda-runtime-cu12==12.4.127 in /usr/local/lib/python3.11/dist-packages (from torch) (12.4.127)\n",
            "Requirement already satisfied: nvidia-cuda-cupti-cu12==12.4.127 in /usr/local/lib/python3.11/dist-packages (from torch) (12.4.127)\n",
            "Requirement already satisfied: nvidia-cudnn-cu12==9.1.0.70 in /usr/local/lib/python3.11/dist-packages (from torch) (9.1.0.70)\n",
            "Requirement already satisfied: nvidia-cublas-cu12==12.4.5.8 in /usr/local/lib/python3.11/dist-packages (from torch) (12.4.5.8)\n",
            "Requirement already satisfied: nvidia-cufft-cu12==11.2.1.3 in /usr/local/lib/python3.11/dist-packages (from torch) (11.2.1.3)\n",
            "Requirement already satisfied: nvidia-curand-cu12==10.3.5.147 in /usr/local/lib/python3.11/dist-packages (from torch) (10.3.5.147)\n",
            "Requirement already satisfied: nvidia-cusolver-cu12==11.6.1.9 in /usr/local/lib/python3.11/dist-packages (from torch) (11.6.1.9)\n",
            "Requirement already satisfied: nvidia-cusparse-cu12==12.3.1.170 in /usr/local/lib/python3.11/dist-packages (from torch) (12.3.1.170)\n",
            "Requirement already satisfied: nvidia-cusparselt-cu12==0.6.2 in /usr/local/lib/python3.11/dist-packages (from torch) (0.6.2)\n",
            "Requirement already satisfied: nvidia-nccl-cu12==2.21.5 in /usr/local/lib/python3.11/dist-packages (from torch) (2.21.5)\n",
            "Requirement already satisfied: nvidia-nvtx-cu12==12.4.127 in /usr/local/lib/python3.11/dist-packages (from torch) (12.4.127)\n",
            "Requirement already satisfied: nvidia-nvjitlink-cu12==12.4.127 in /usr/local/lib/python3.11/dist-packages (from torch) (12.4.127)\n",
            "Requirement already satisfied: triton==3.2.0 in /usr/local/lib/python3.11/dist-packages (from torch) (3.2.0)\n",
            "Requirement already satisfied: sympy==1.13.1 in /usr/local/lib/python3.11/dist-packages (from torch) (1.13.1)\n",
            "Requirement already satisfied: mpmath<1.4,>=1.1.0 in /usr/local/lib/python3.11/dist-packages (from sympy==1.13.1->torch) (1.3.0)\n",
            "Requirement already satisfied: scipy>=1.6.0 in /usr/local/lib/python3.11/dist-packages (from scikit-learn) (1.16.1)\n",
            "Requirement already satisfied: joblib>=1.2.0 in /usr/local/lib/python3.11/dist-packages (from scikit-learn) (1.5.1)\n",
            "Requirement already satisfied: threadpoolctl>=3.1.0 in /usr/local/lib/python3.11/dist-packages (from scikit-learn) (3.6.0)\n",
            "Requirement already satisfied: contourpy>=1.0.1 in /usr/local/lib/python3.11/dist-packages (from matplotlib) (1.3.3)\n",
            "Requirement already satisfied: cycler>=0.10 in /usr/local/lib/python3.11/dist-packages (from matplotlib) (0.12.1)\n",
            "Requirement already satisfied: fonttools>=4.22.0 in /usr/local/lib/python3.11/dist-packages (from matplotlib) (4.59.0)\n",
            "Requirement already satisfied: kiwisolver>=1.3.1 in /usr/local/lib/python3.11/dist-packages (from matplotlib) (1.4.8)\n",
            "Requirement already satisfied: pillow>=8 in /usr/local/lib/python3.11/dist-packages (from matplotlib) (11.3.0)\n",
            "Requirement already satisfied: pyparsing>=2.3.1 in /usr/local/lib/python3.11/dist-packages (from matplotlib) (3.2.3)\n",
            "Requirement already satisfied: python-dateutil>=2.7 in /usr/local/lib/python3.11/dist-packages (from matplotlib) (2.9.0.post0)\n",
            "Requirement already satisfied: aiohttp!=4.0.0a0,!=4.0.0a1 in /usr/local/lib/python3.11/dist-packages (from fsspec[http]<=2025.3.0,>=2023.1.0->datasets) (3.12.15)\n",
            "Requirement already satisfied: hf-xet<2.0.0,>=1.1.3 in /usr/local/lib/python3.11/dist-packages (from huggingface-hub<1.0,>=0.34.0->transformers) (1.1.7)\n",
            "Requirement already satisfied: pytz>=2020.1 in /usr/local/lib/python3.11/dist-packages (from pandas->datasets) (2025.2)\n",
            "Requirement already satisfied: tzdata>=2022.7 in /usr/local/lib/python3.11/dist-packages (from pandas->datasets) (2025.2)\n",
            "Requirement already satisfied: six>=1.5 in /usr/local/lib/python3.11/dist-packages (from python-dateutil>=2.7->matplotlib) (1.17.0)\n",
            "Requirement already satisfied: charset-normalizer<4,>=2 in /usr/local/lib/python3.11/dist-packages (from requests->transformers) (3.4.2)\n",
            "Requirement already satisfied: idna<4,>=2.5 in /usr/local/lib/python3.11/dist-packages (from requests->transformers) (3.10)\n",
            "Requirement already satisfied: urllib3<3,>=1.21.1 in /usr/local/lib/python3.11/dist-packages (from requests->transformers) (2.5.0)\n",
            "Requirement already satisfied: certifi>=2017.4.17 in /usr/local/lib/python3.11/dist-packages (from requests->transformers) (2025.8.3)\n",
            "Requirement already satisfied: MarkupSafe>=2.0 in /usr/local/lib/python3.11/dist-packages (from jinja2->torch) (3.0.2)\n",
            "Requirement already satisfied: aiohappyeyeballs>=2.5.0 in /usr/local/lib/python3.11/dist-packages (from aiohttp!=4.0.0a0,!=4.0.0a1->fsspec[http]<=2025.3.0,>=2023.1.0->datasets) (2.6.1)\n",
            "Requirement already satisfied: aiosignal>=1.4.0 in /usr/local/lib/python3.11/dist-packages (from aiohttp!=4.0.0a0,!=4.0.0a1->fsspec[http]<=2025.3.0,>=2023.1.0->datasets) (1.4.0)\n",
            "Requirement already satisfied: attrs>=17.3.0 in /usr/local/lib/python3.11/dist-packages (from aiohttp!=4.0.0a0,!=4.0.0a1->fsspec[http]<=2025.3.0,>=2023.1.0->datasets) (25.3.0)\n",
            "Requirement already satisfied: frozenlist>=1.1.1 in /usr/local/lib/python3.11/dist-packages (from aiohttp!=4.0.0a0,!=4.0.0a1->fsspec[http]<=2025.3.0,>=2023.1.0->datasets) (1.7.0)\n",
            "Requirement already satisfied: multidict<7.0,>=4.5 in /usr/local/lib/python3.11/dist-packages (from aiohttp!=4.0.0a0,!=4.0.0a1->fsspec[http]<=2025.3.0,>=2023.1.0->datasets) (6.6.3)\n",
            "Requirement already satisfied: propcache>=0.2.0 in /usr/local/lib/python3.11/dist-packages (from aiohttp!=4.0.0a0,!=4.0.0a1->fsspec[http]<=2025.3.0,>=2023.1.0->datasets) (0.3.2)\n",
            "Requirement already satisfied: yarl<2.0,>=1.17.0 in /usr/local/lib/python3.11/dist-packages (from aiohttp!=4.0.0a0,!=4.0.0a1->fsspec[http]<=2025.3.0,>=2023.1.0->datasets) (1.20.1)\n"
          ]
        }
      ],
      "source": [
        "# Install required libraries\n",
        "!pip install transformers datasets torch scikit-learn matplotlib seaborn"
      ]
    },
    {
      "cell_type": "code",
      "execution_count": 17,
      "metadata": {
        "colab": {
          "base_uri": "https://localhost:8080/"
        },
        "id": "KoTvpPw8Frmp",
        "outputId": "a31a235c-8e12-49d5-858b-c4b81346f4f9"
      },
      "outputs": [
        {
          "name": "stdout",
          "output_type": "stream",
          "text": [
            "Using device: cuda\n"
          ]
        }
      ],
      "source": [
        "# Core imports\n",
        "import torch\n",
        "import pandas as pd\n",
        "import numpy as np\n",
        "import matplotlib.pyplot as plt\n",
        "import seaborn as sns\n",
        "from sklearn.metrics import accuracy_score, classification_report, confusion_matrix, f1_score\n",
        "\n",
        "# Transformers and datasets\n",
        "from transformers import (\n",
        "    AutoTokenizer,\n",
        "    AutoModelForSequenceClassification,\n",
        "    TrainingArguments,\n",
        "    Trainer,\n",
        "    DataCollatorWithPadding\n",
        ")\n",
        "from datasets import load_dataset\n",
        "import warnings\n",
        "import transformers\n",
        "warnings.filterwarnings('ignore')\n",
        "\n",
        "# Check GPU and set device\n",
        "device = torch.device('cuda' if torch.cuda.is_available() else 'cpu')\n",
        "print(f\"Using device: {device}\")\n",
        "\n",
        "# Set random seeds for reproducibility\n",
        "torch.manual_seed(42)\n",
        "np.random.seed(42)"
      ]
    },
    {
      "cell_type": "code",
      "execution_count": 18,
      "metadata": {
        "colab": {
          "base_uri": "https://localhost:8080/"
        },
        "id": "A0HiHCLqnG81",
        "outputId": "967fc067-3df3-4a74-b5e9-b41e620c0ba0"
      },
      "outputs": [
        {
          "name": "stdout",
          "output_type": "stream",
          "text": [
            "Drive already mounted at /content/drive; to attempt to forcibly remount, call drive.mount(\"/content/drive\", force_remount=True).\n",
            "Logged in to Hugging Face\n"
          ]
        },
        {
          "name": "stderr",
          "output_type": "stream",
          "text": [
            "\u001b[34m\u001b[1mwandb\u001b[0m: \u001b[33mWARNING\u001b[0m Calling wandb.login() after wandb.init() has no effect.\n"
          ]
        },
        {
          "name": "stdout",
          "output_type": "stream",
          "text": [
            "Logged in to Weights & Biases\n",
            "Model will be saved to/loaded from: /content/drive/MyDrive/roberta-amazon-finetuned\n"
          ]
        }
      ],
      "source": [
        "# Mount Google Drive to save the model persistently\n",
        "from google.colab import drive\n",
        "drive.mount('/content/drive')\n",
        "\n",
        "# Authenticate with Hugging Face and Weights & Biases\n",
        "from google.colab import userdata\n",
        "from huggingface_hub import login\n",
        "import wandb\n",
        "\n",
        "# Authenticate with Hugging Face\n",
        "hf_token = userdata.get('HF_TOKEN')\n",
        "login(token=hf_token)\n",
        "print(\"Logged in to Hugging Face\")\n",
        "\n",
        "# Authenticate with Weights & Biases\n",
        "wandb_token = userdata.get('WANDB_API_KEY')\n",
        "wandb.login(key=wandb_token)\n",
        "print(\"Logged in to Weights & Biases\")\n",
        "\n",
        "# Configuration flags - WHETHER TO TRAIN OR LOAD A MODEL\n",
        "# Set TRAIN_NEW_MODEL to True to train a new model, or False to load an existing model\n",
        "TRAIN_NEW_MODEL = True  # Set to True to train, False to load existing\n",
        "ENABLE_WANDB_LOGGING = True  # Set to False to disable wandb logging\n",
        "\n",
        "# Define model save path in Google Drive\n",
        "model_save_path = '/content/drive/MyDrive/roberta-amazon-finetuned'\n",
        "print(f\"Model will be saved to/loaded from: {model_save_path}\")"
      ]
    },
    {
      "cell_type": "code",
      "execution_count": 19,
      "metadata": {
        "colab": {
          "base_uri": "https://localhost:8080/"
        },
        "id": "8j9Xcw_QGmPK",
        "outputId": "99d919ec-40e2-4d62-9fcd-e2243e556124"
      },
      "outputs": [
        {
          "name": "stdout",
          "output_type": "stream",
          "text": [
            "Loading Amazon Polarity dataset...\n",
            "Amazon dataset structure: DatasetDict({\n",
            "    train: Dataset({\n",
            "        features: ['label', 'title', 'content'],\n",
            "        num_rows: 10000\n",
            "    })\n",
            "    test: Dataset({\n",
            "        features: ['label', 'title', 'content'],\n",
            "        num_rows: 2500\n",
            "    })\n",
            "})\n",
            "Training samples: 10000\n",
            "Test samples: 2500\n",
            "Dataset features: {'label': ClassLabel(names=['negative', 'positive']), 'title': Value('string'), 'content': Value('string')}\n",
            "Label mapping: 0=negative, 1=positive\n"
          ]
        }
      ],
      "source": [
        "# Load Amazon Polarity dataset\n",
        "print(\"Loading Amazon Polarity dataset...\")\n",
        "amazon_dataset = load_dataset(\"amazon_polarity\", split={\"train\": \"train[:10000]\", \"test\": \"test[:2500]\"})\n",
        "\n",
        "# Display dataset info\n",
        "print(f\"Amazon dataset structure: {amazon_dataset}\")\n",
        "print(f\"Training samples: {len(amazon_dataset['train'])}\")\n",
        "print(f\"Test samples: {len(amazon_dataset['test'])}\")\n",
        "\n",
        "# Check dataset features and labels\n",
        "print(f\"Dataset features: {amazon_dataset['train'].features}\")\n",
        "print(f\"Label mapping: 0=negative, 1=positive\")"
      ]
    },
    {
      "cell_type": "code",
      "execution_count": 20,
      "metadata": {
        "colab": {
          "base_uri": "https://localhost:8080/"
        },
        "id": "Zc1BtSRfGvKr",
        "outputId": "77893677-bbfa-41bb-ed96-c4b5c249ed4a"
      },
      "outputs": [
        {
          "name": "stdout",
          "output_type": "stream",
          "text": [
            "Sample Amazon reviews:\n",
            "\n",
            "Example 1 (Positive):\n",
            "Title: Stuning even for the non-gamer...\n",
            "Content: This sound track was beautiful! It paints the senery in your mind so well I would recomend it even to people who hate vid. game music! I have played t...\n",
            "\n",
            "Example 2 (Positive):\n",
            "Title: The best soundtrack ever to anything....\n",
            "Content: I'm reading a lot of reviews saying that this is the best 'game soundtrack' and I figured that I'd write a review to disagree a bit. This in my opinin...\n",
            "\n",
            "Example 3 (Positive):\n",
            "Title: Amazing!...\n",
            "Content: This soundtrack is my favorite music of all time, hands down. The intense sadness of \"Prisoners of Fate\" (which means all the more if you've played th...\n"
          ]
        }
      ],
      "source": [
        "# Display sample examples\n",
        "print(\"Sample Amazon reviews:\")\n",
        "for i in range(3):\n",
        "    sample = amazon_dataset['train'][i]\n",
        "    label = \"Positive\" if sample['label'] == 1 else \"Negative\"\n",
        "    print(f\"\\nExample {i+1} ({label}):\")\n",
        "    print(f\"Title: {sample['title'][:100]}...\")\n",
        "    print(f\"Content: {sample['content'][:150]}...\")"
      ]
    },
    {
      "cell_type": "code",
      "execution_count": 21,
      "metadata": {
        "colab": {
          "base_uri": "https://localhost:8080/"
        },
        "id": "nkXvWtgsG0wj",
        "outputId": "9d466eef-a937-4f44-b791-cc89447f91b9"
      },
      "outputs": [
        {
          "name": "stdout",
          "output_type": "stream",
          "text": [
            "Amazon dataset label distribution:\n",
            "Training - Negative: 5097, Positive: 4903\n",
            "Test - Negative: 1191, Positive: 1309\n"
          ]
        }
      ],
      "source": [
        "# Check label distribution\n",
        "train_labels = amazon_dataset['train']['label']\n",
        "test_labels = amazon_dataset['test']['label']\n",
        "\n",
        "print(\"Amazon dataset label distribution:\")\n",
        "print(f\"Training - Negative: {train_labels.count(0)}, Positive: {train_labels.count(1)}\")\n",
        "print(f\"Test - Negative: {test_labels.count(0)}, Positive: {test_labels.count(1)}\")"
      ]
    },
    {
      "cell_type": "code",
      "execution_count": 22,
      "metadata": {
        "colab": {
          "base_uri": "https://localhost:8080/"
        },
        "id": "aclMUDzZI3gf",
        "outputId": "9cec53ed-d8fb-40e9-8545-4babb6c6fe37"
      },
      "outputs": [
        {
          "name": "stdout",
          "output_type": "stream",
          "text": [
            "Loading balanced IMDb dataset...\n",
            "Balanced IMDb samples: 2500\n",
            "IMDb - Negative: 1250, Positive: 1250\n"
          ]
        }
      ],
      "source": [
        "# Fix IMDb dataset to get balanced samples\n",
        "print(\"Loading balanced IMDb dataset...\")\n",
        "imdb_full = load_dataset(\"imdb\")\n",
        "\n",
        "# Get balanced sample from test set\n",
        "imdb_test = imdb_full['test']\n",
        "negative_samples = [i for i, label in enumerate(imdb_test['label']) if label == 0][:1250]\n",
        "positive_samples = [i for i, label in enumerate(imdb_test['label']) if label == 1][:1250]\n",
        "\n",
        "# Combine and shuffle indices\n",
        "balanced_indices = negative_samples + positive_samples\n",
        "np.random.shuffle(balanced_indices)\n",
        "\n",
        "# Create balanced dataset\n",
        "imdb_balanced = imdb_test.select(balanced_indices)\n",
        "print(f\"Balanced IMDb samples: {len(imdb_balanced)}\")\n",
        "\n",
        "# Check new distribution\n",
        "imdb_labels = imdb_balanced['label']\n",
        "print(f\"IMDb - Negative: {imdb_labels.count(0)}, Positive: {imdb_labels.count(1)}\")"
      ]
    },
    {
      "cell_type": "code",
      "execution_count": 23,
      "metadata": {
        "colab": {
          "base_uri": "https://localhost:8080/"
        },
        "id": "6lIJSZdDLlRX",
        "outputId": "05bbb2ea-272f-4741-cec0-5ec96421de63"
      },
      "outputs": [
        {
          "name": "stdout",
          "output_type": "stream",
          "text": [
            "Amazon preprocessing complete\n",
            "Sample processed text:\n",
            "Stuning even for the non-gamer This sound track was beautiful! It paints the senery in your mind so well I would recomend it even to people who hate vid. game music! I have played the game Chrono Cros\n"
          ]
        }
      ],
      "source": [
        "# Preprocessing function to combine Amazon title and content\n",
        "def preprocess_amazon_text(example):\n",
        "    # Combine title and content for Amazon reviews\n",
        "    example['text'] = f\"{example['title']} {example['content']}\"\n",
        "    return example\n",
        "\n",
        "# Apply preprocessing to Amazon dataset\n",
        "amazon_processed = amazon_dataset.map(preprocess_amazon_text)\n",
        "\n",
        "print(\"Amazon preprocessing complete\")\n",
        "print(\"Sample processed text:\")\n",
        "print(amazon_processed['train'][0]['text'][:200])"
      ]
    },
    {
      "cell_type": "code",
      "execution_count": 24,
      "metadata": {
        "colab": {
          "base_uri": "https://localhost:8080/"
        },
        "id": "qXwKeo6sMp7Z",
        "outputId": "54925a1b-21b6-4454-aa7d-6940ead1269e"
      },
      "outputs": [
        {
          "name": "stdout",
          "output_type": "stream",
          "text": [
            "Tokenizer loaded successfully\n",
            "Tokenizer vocab size: 50265\n"
          ]
        }
      ],
      "source": [
        "# Initialize RoBERTa tokenizer\n",
        "model_name = \"roberta-base\"\n",
        "tokenizer = AutoTokenizer.from_pretrained(model_name)\n",
        "\n",
        "# Tokenization function\n",
        "def tokenize_function(examples):\n",
        "    return tokenizer(examples['text'],\n",
        "                    truncation=True,\n",
        "                    padding=True,\n",
        "                    max_length=512)\n",
        "\n",
        "print(\"Tokenizer loaded successfully\")\n",
        "print(f\"Tokenizer vocab size: {tokenizer.vocab_size}\")"
      ]
    },
    {
      "cell_type": "code",
      "execution_count": 25,
      "metadata": {
        "colab": {
          "base_uri": "https://localhost:8080/",
          "height": 104,
          "referenced_widgets": [
            "14f82549487a4b0a9585f4ba4e2f904f",
            "ca1e8fd0f3744f86b2d6556161a6ff63",
            "f54903ff49904f6289365a37c540ed23",
            "dc8abbba5a9d4fa0be993b7f9b0714d9",
            "5d5e4bc9bbb4499aaa77a1f8d0320b57",
            "53a6f494662540539e30589ee2992f4b",
            "0721f5d45bd044f992b25c5ae5d78c95",
            "cc73926482c940f6839122f1a389ef4e",
            "afc6286b6e344ef5aa3b7e24e6b78dd6",
            "07a557b29c3348d490d3cdf7ca4b2775",
            "dd313739d7d24a239b8f963a60413458"
          ]
        },
        "id": "18Zw1JF9NG0q",
        "outputId": "7a0a7882-f9c3-4359-f6f4-8071071a8bb3"
      },
      "outputs": [
        {
          "name": "stdout",
          "output_type": "stream",
          "text": [
            "Tokenizing Amazon dataset...\n"
          ]
        },
        {
          "data": {
            "application/vnd.jupyter.widget-view+json": {
              "model_id": "14f82549487a4b0a9585f4ba4e2f904f",
              "version_major": 2,
              "version_minor": 0
            },
            "text/plain": [
              "Map:   0%|          | 0/2500 [00:00<?, ? examples/s]"
            ]
          },
          "metadata": {},
          "output_type": "display_data"
        },
        {
          "name": "stdout",
          "output_type": "stream",
          "text": [
            "Amazon tokenization complete\n",
            "Tokenized features: {'label': ClassLabel(names=['negative', 'positive']), 'input_ids': List(Value('int32')), 'attention_mask': List(Value('int8'))}\n"
          ]
        }
      ],
      "source": [
        "# Tokenize Amazon dataset\n",
        "print(\"Tokenizing Amazon dataset...\")\n",
        "amazon_tokenized = amazon_processed.map(tokenize_function, batched=True)\n",
        "\n",
        "# Remove original text columns to save memory\n",
        "amazon_tokenized = amazon_tokenized.remove_columns(['title', 'content', 'text'])\n",
        "\n",
        "print(\"Amazon tokenization complete\")\n",
        "print(f\"Tokenized features: {amazon_tokenized['train'].features}\")"
      ]
    },
    {
      "cell_type": "code",
      "execution_count": 26,
      "metadata": {
        "colab": {
          "base_uri": "https://localhost:8080/"
        },
        "id": "FusxKU1gNqRc",
        "outputId": "a81b9909-f335-4d1b-b62b-4b1d0016ad26"
      },
      "outputs": [
        {
          "name": "stdout",
          "output_type": "stream",
          "text": [
            "Tokenizing IMDb dataset...\n",
            "IMDb tokenization complete\n",
            "Tokenized features: {'label': ClassLabel(names=['neg', 'pos']), 'input_ids': List(Value('int32')), 'attention_mask': List(Value('int8'))}\n"
          ]
        }
      ],
      "source": [
        "# Tokenize IMDb dataset\n",
        "print(\"Tokenizing IMDb dataset...\")\n",
        "imdb_tokenized = imdb_balanced.map(tokenize_function, batched=True)\n",
        "\n",
        "# Remove original text column\n",
        "imdb_tokenized = imdb_tokenized.remove_columns(['text'])\n",
        "\n",
        "print(\"IMDb tokenization complete\")\n",
        "print(f\"Tokenized features: {imdb_tokenized.features}\")"
      ]
    },
    {
      "cell_type": "code",
      "execution_count": 27,
      "metadata": {
        "colab": {
          "base_uri": "https://localhost:8080/"
        },
        "id": "yVzecsPkNjn9",
        "outputId": "9acfe082-956c-4ba0-d31e-28faaa3e9b82"
      },
      "outputs": [
        {
          "name": "stdout",
          "output_type": "stream",
          "text": [
            "Sample tokenized data:\n",
            "Input IDs shape: torch.Size([327])\n",
            "Attention mask shape: torch.Size([327])\n",
            "Label: 1\n",
            "Training samples: 8500\n",
            "Validation samples: 1500\n",
            "Amazon test samples: 2500\n",
            "IMDb test samples: 2500\n"
          ]
        }
      ],
      "source": [
        "# Set format for PyTorch\n",
        "amazon_tokenized.set_format('torch', columns=['input_ids', 'attention_mask', 'label'])\n",
        "imdb_tokenized.set_format('torch', columns=['input_ids', 'attention_mask', 'label'])\n",
        "\n",
        "# Check tokenized sample\n",
        "print(\"Sample tokenized data:\")\n",
        "sample = amazon_tokenized['train'][0]\n",
        "print(f\"Input IDs shape: {sample['input_ids'].shape}\")\n",
        "print(f\"Attention mask shape: {sample['attention_mask'].shape}\")\n",
        "print(f\"Label: {sample['label']}\")\n",
        "\n",
        "# Split Amazon dataset for training/validation\n",
        "train_size = int(0.85 * len(amazon_tokenized['train']))\n",
        "val_size = len(amazon_tokenized['train']) - train_size\n",
        "\n",
        "amazon_train = amazon_tokenized['train'].select(range(train_size))\n",
        "amazon_val = amazon_tokenized['train'].select(range(train_size, train_size + val_size))\n",
        "\n",
        "print(f\"Training samples: {len(amazon_train)}\")\n",
        "print(f\"Validation samples: {len(amazon_val)}\")\n",
        "print(f\"Amazon test samples: {len(amazon_tokenized['test'])}\")\n",
        "print(f\"IMDb test samples: {len(imdb_tokenized)}\")"
      ]
    },
    {
      "cell_type": "code",
      "execution_count": 28,
      "metadata": {
        "colab": {
          "base_uri": "https://localhost:8080/"
        },
        "id": "ebukO7n5N0Y3",
        "outputId": "ac3904ef-9644-46c4-fd0f-1adbb5c2e7e6"
      },
      "outputs": [
        {
          "name": "stdout",
          "output_type": "stream",
          "text": [
            "Transformers version: 4.55.0\n",
            "Training arguments configured successfully\n",
            "Evaluation strategy: IntervalStrategy.STEPS\n",
            "Save strategy: SaveStrategy.STEPS\n",
            "WandB logging: Enabled\n"
          ]
        }
      ],
      "source": [
        "print(f\"Transformers version: {transformers.__version__}\")\n",
        "\n",
        "# Define training arguments (properly fixed version)\n",
        "training_args = TrainingArguments(\n",
        "    output_dir='./roberta-amazon-finetuned',\n",
        "    num_train_epochs=3,\n",
        "    per_device_train_batch_size=16,\n",
        "    per_device_eval_batch_size=16,\n",
        "    warmup_steps=500,\n",
        "    weight_decay=0.01,\n",
        "    logging_dir='./logs',\n",
        "    logging_steps=100,\n",
        "    eval_strategy=\"steps\",  # Set evaluation strategy to match save strategy\n",
        "    eval_steps=500,\n",
        "    save_strategy=\"steps\",\n",
        "    save_steps=500,  # Match eval_steps for consistency\n",
        "    load_best_model_at_end=True,\n",
        "    metric_for_best_model=\"eval_loss\",\n",
        "    greater_is_better=False,\n",
        "    report_to=\"wandb\" if ENABLE_WANDB_LOGGING else None,\n",
        "    seed=42,\n",
        ")\n",
        "\n",
        "print(\"Training arguments configured successfully\")\n",
        "print(f\"Evaluation strategy: {training_args.eval_strategy}\")\n",
        "print(f\"Save strategy: {training_args.save_strategy}\")\n",
        "print(f\"WandB logging: {'Enabled' if ENABLE_WANDB_LOGGING else 'Disabled'}\")"
      ]
    },
    {
      "cell_type": "code",
      "execution_count": 29,
      "metadata": {
        "colab": {
          "base_uri": "https://localhost:8080/",
          "height": 481
        },
        "id": "v9TYkx3-OeEp",
        "outputId": "f6460324-9090-43fb-df8a-a30945432458"
      },
      "outputs": [
        {
          "name": "stdout",
          "output_type": "stream",
          "text": [
            "=== TRAINING MODE ===\n"
          ]
        },
        {
          "name": "stderr",
          "output_type": "stream",
          "text": [
            "Some weights of RobertaForSequenceClassification were not initialized from the model checkpoint at roberta-base and are newly initialized: ['classifier.dense.bias', 'classifier.dense.weight', 'classifier.out_proj.bias', 'classifier.out_proj.weight']\n",
            "You should probably TRAIN this model on a down-stream task to be able to use it for predictions and inference.\n"
          ]
        },
        {
          "name": "stdout",
          "output_type": "stream",
          "text": [
            "Trainer created for training\n",
            "Training dataset size: 8500\n",
            "Evaluation dataset size: 1500\n",
            "Starting training...\n",
            "This will take several minutes depending on your GPU...\n"
          ]
        },
        {
          "data": {
            "text/html": [
              "\n",
              "    <div>\n",
              "      \n",
              "      <progress value='531' max='1596' style='width:300px; height:20px; vertical-align: middle;'></progress>\n",
              "      [ 531/1596 09:30 < 19:07, 0.93 it/s, Epoch 1.00/3]\n",
              "    </div>\n",
              "    <table border=\"1\" class=\"dataframe\">\n",
              "  <thead>\n",
              " <tr style=\"text-align: left;\">\n",
              "      <th>Step</th>\n",
              "      <th>Training Loss</th>\n",
              "      <th>Validation Loss</th>\n",
              "      <th>Accuracy</th>\n",
              "      <th>F1</th>\n",
              "    </tr>\n",
              "  </thead>\n",
              "  <tbody>\n",
              "    <tr>\n",
              "      <td>500</td>\n",
              "      <td>0.296400</td>\n",
              "      <td>0.268997</td>\n",
              "      <td>0.915333</td>\n",
              "      <td>0.915330</td>\n",
              "    </tr>\n",
              "  </tbody>\n",
              "</table><p>"
            ],
            "text/plain": [
              "<IPython.core.display.HTML object>"
            ]
          },
          "metadata": {},
          "output_type": "display_data"
        },
        {
          "data": {
            "text/html": [
              "\n",
              "    <div>\n",
              "      \n",
              "      <progress value='1596' max='1596' style='width:300px; height:20px; vertical-align: middle;'></progress>\n",
              "      [1596/1596 27:12, Epoch 3/3]\n",
              "    </div>\n",
              "    <table border=\"1\" class=\"dataframe\">\n",
              "  <thead>\n",
              " <tr style=\"text-align: left;\">\n",
              "      <th>Step</th>\n",
              "      <th>Training Loss</th>\n",
              "      <th>Validation Loss</th>\n",
              "      <th>Accuracy</th>\n",
              "      <th>F1</th>\n",
              "    </tr>\n",
              "  </thead>\n",
              "  <tbody>\n",
              "    <tr>\n",
              "      <td>500</td>\n",
              "      <td>0.296400</td>\n",
              "      <td>0.268997</td>\n",
              "      <td>0.915333</td>\n",
              "      <td>0.915330</td>\n",
              "    </tr>\n",
              "    <tr>\n",
              "      <td>1000</td>\n",
              "      <td>0.183400</td>\n",
              "      <td>0.217174</td>\n",
              "      <td>0.935333</td>\n",
              "      <td>0.935185</td>\n",
              "    </tr>\n",
              "    <tr>\n",
              "      <td>1500</td>\n",
              "      <td>0.087300</td>\n",
              "      <td>0.237997</td>\n",
              "      <td>0.947333</td>\n",
              "      <td>0.947342</td>\n",
              "    </tr>\n",
              "  </tbody>\n",
              "</table><p>"
            ],
            "text/plain": [
              "<IPython.core.display.HTML object>"
            ]
          },
          "metadata": {},
          "output_type": "display_data"
        },
        {
          "name": "stdout",
          "output_type": "stream",
          "text": [
            "Training completed!\n",
            "Model and tokenizer saved to '/content/drive/MyDrive/roberta-amazon-finetuned'\n",
            "Model will persist after runtime restarts!\n"
          ]
        }
      ],
      "source": [
        "# Define a function to compute metrics\n",
        "def compute_metrics(eval_pred):\n",
        "    logits, labels = eval_pred\n",
        "    predictions = np.argmax(logits, axis=-1)\n",
        "    accuracy = accuracy_score(labels, predictions)\n",
        "    f1 = f1_score(labels, predictions, average='weighted')\n",
        "    return {\"accuracy\": accuracy, \"f1\": f1}\n",
        "\n",
        "# CONDITIONAL TRAINER CREATION\n",
        "data_collator = DataCollatorWithPadding(tokenizer=tokenizer)\n",
        "\n",
        "if TRAIN_NEW_MODEL:\n",
        "    print(\"=== TRAINING MODE ===\")\n",
        "    # Initialize the model for training\n",
        "    model = AutoModelForSequenceClassification.from_pretrained(model_name, num_labels=2)\n",
        "    model.to(device)\n",
        "\n",
        "    trainer = Trainer(\n",
        "        model=model,\n",
        "        args=training_args,\n",
        "        train_dataset=amazon_train,\n",
        "        eval_dataset=amazon_val,\n",
        "        tokenizer=tokenizer,\n",
        "        data_collator=data_collator,\n",
        "        compute_metrics=compute_metrics,\n",
        "    )\n",
        "    print(\"Trainer created for training\")\n",
        "    print(f\"Training dataset size: {len(trainer.train_dataset)}\")\n",
        "    print(f\"Evaluation dataset size: {len(trainer.eval_dataset)}\")\n",
        "\n",
        "    # Training and saving\n",
        "    print(\"Starting training...\")\n",
        "    print(\"This will take several minutes depending on your GPU...\")\n",
        "    trainer.train()\n",
        "    print(\"Training completed!\")\n",
        "\n",
        "    trainer.save_model(model_save_path)\n",
        "    tokenizer.save_pretrained(model_save_path)\n",
        "    print(f\"Model and tokenizer saved to '{model_save_path}'\")\n",
        "    print(\"Model will persist after runtime restarts!\")\n",
        "\n",
        "else:\n",
        "    print(\"=== LOADING MODE ===\")\n",
        "    print(f\"Loading saved model from: {model_save_path}\")\n",
        "    saved_model = AutoModelForSequenceClassification.from_pretrained(model_save_path)\n",
        "    saved_model.to(device)\n",
        "    trainer = Trainer(\n",
        "        model=saved_model,\n",
        "        args=training_args,\n",
        "        train_dataset=amazon_train,\n",
        "        eval_dataset=amazon_val,\n",
        "        tokenizer=tokenizer,\n",
        "        data_collator=data_collator,\n",
        "        compute_metrics=compute_metrics,\n",
        "    )\n",
        "    print(\"Trainer created with loaded model\")\n",
        "    print(f\"Model loaded on {device}\")"
      ]
    },
    {
      "cell_type": "code",
      "execution_count": 38,
      "metadata": {
        "colab": {
          "base_uri": "https://localhost:8080/"
        },
        "id": "bxso4JiVlmOI",
        "outputId": "52f4088a-d805-4b74-e3ea-20100de6d615"
      },
      "outputs": [
        {
          "name": "stdout",
          "output_type": "stream",
          "text": [
            "Using freshly trained model for evaluation\n",
            "Model ready for evaluation on cuda\n"
          ]
        }
      ],
      "source": [
        "# Load model for evaluation based on training mode\n",
        "if TRAIN_NEW_MODEL:\n",
        "    # Use the model from training\n",
        "    best_model = trainer.model\n",
        "    print(\"Using freshly trained model for evaluation\")\n",
        "else:\n",
        "    # Load the saved model for evaluation\n",
        "    print(f\"Loading saved model for evaluation from: {model_save_path}\")\n",
        "    best_model = AutoModelForSequenceClassification.from_pretrained(model_save_path)\n",
        "    print(\"Saved model loaded for evaluation\")\n",
        "\n",
        "best_model.to(device)\n",
        "best_model.eval()\n",
        "print(f\"Model ready for evaluation on {device}\")"
      ]
    },
    {
      "cell_type": "code",
      "execution_count": 39,
      "metadata": {
        "id": "AZEScOrUyXOx"
      },
      "outputs": [],
      "source": [
        "# Define compute_metrics function for evaluation\n",
        "def compute_metrics(eval_pred):\n",
        "    predictions, labels = eval_pred\n",
        "    predictions = np.argmax(predictions, axis=-1)\n",
        "    accuracy = accuracy_score(labels, predictions)\n",
        "    f1 = f1_score(labels, predictions, average='binary')\n",
        "    return {\n",
        "        'accuracy': accuracy,\n",
        "        'f1': f1\n",
        "    }\n",
        "\n",
        "# Define the evaluation function\n",
        "def evaluate_model(model, dataset, dataset_name):\n",
        "    print(f\"\\nEvaluating on {dataset_name}...\")\n",
        "    trainer = Trainer(\n",
        "        model=model,\n",
        "        args=TrainingArguments(output_dir='./temp_eval', report_to=\"none\"),\n",
        "        eval_dataset=dataset,\n",
        "        tokenizer=tokenizer,\n",
        "        data_collator=DataCollatorWithPadding(tokenizer=tokenizer),\n",
        "        compute_metrics=compute_metrics,\n",
        "    )\n",
        "    metrics = trainer.evaluate()\n",
        "    accuracy = metrics[\"eval_accuracy\"]\n",
        "    f1 = metrics[\"eval_f1\"]\n",
        "\n",
        "    # Get predictions and true labels for confusion matrix\n",
        "    predictions = trainer.predict(dataset).predictions\n",
        "    preds = np.argmax(predictions, axis=-1)\n",
        "    true_labels = np.array(dataset['label'])\n",
        "\n",
        "    print(f\"{dataset_name} Accuracy: {accuracy:.4f}\")\n",
        "    print(f\"{dataset_name} F1 Score: {f1:.4f}\")\n",
        "\n",
        "    return accuracy, f1, preds, true_labels"
      ]
    },
    {
      "cell_type": "code",
      "execution_count": 36,
      "metadata": {
        "colab": {
          "base_uri": "https://localhost:8080/"
        },
        "id": "SdoQBGeI0t7_",
        "outputId": "d4e85510-314b-4538-b4c6-82f4ddfaf154"
      },
      "outputs": [
        {
          "name": "stdout",
          "output_type": "stream",
          "text": [
            "Initializing RoBERTa model for sequence classification...\n"
          ]
        },
        {
          "name": "stderr",
          "output_type": "stream",
          "text": [
            "Some weights of RobertaForSequenceClassification were not initialized from the model checkpoint at roberta-base and are newly initialized: ['classifier.dense.bias', 'classifier.dense.weight', 'classifier.out_proj.bias', 'classifier.out_proj.weight']\n",
            "You should probably TRAIN this model on a down-stream task to be able to use it for predictions and inference.\n"
          ]
        },
        {
          "name": "stdout",
          "output_type": "stream",
          "text": [
            "Model loaded and moved to cuda\n"
          ]
        }
      ],
      "source": [
        "print(\"Initializing RoBERTa model for sequence classification...\")\n",
        "model = AutoModelForSequenceClassification.from_pretrained(\n",
        "    model_name,\n",
        "    num_labels=2,\n",
        "    id2label={0: \"NEGATIVE\", 1: \"POSITIVE\"},\n",
        "    label2id={\"NEGATIVE\": 0, \"POSITIVE\": 1}\n",
        ")\n",
        "model.to(device)\n",
        "print(f\"Model loaded and moved to {device}\")"
      ]
    },
    {
      "cell_type": "code",
      "execution_count": 37,
      "metadata": {
        "colab": {
          "base_uri": "https://localhost:8080/",
          "height": 146
        },
        "id": "XTar3Q1hlpYp",
        "outputId": "bf49bf2e-8ad7-4c05-c98a-433914d32daf"
      },
      "outputs": [
        {
          "name": "stdout",
          "output_type": "stream",
          "text": [
            "============================================================\n",
            "3.1: SAME-DOMAIN EVALUATION (Amazon \u2192 Amazon)\n",
            "============================================================\n",
            "\n",
            "Evaluating on Amazon Test Set...\n"
          ]
        },
        {
          "data": {
            "text/html": [],
            "text/plain": [
              "<IPython.core.display.HTML object>"
            ]
          },
          "metadata": {},
          "output_type": "display_data"
        },
        {
          "name": "stdout",
          "output_type": "stream",
          "text": [
            "Amazon Test Set Accuracy: 0.9364\n",
            "Amazon Test Set F1 Score: 0.9407\n"
          ]
        }
      ],
      "source": [
        "# Now run the Amazon evaluation\n",
        "print(\"=\" * 60)\n",
        "print(\"3.1: SAME-DOMAIN EVALUATION (Amazon \u2192 Amazon)\")\n",
        "print(\"=\" * 60)\n",
        "\n",
        "amazon_accuracy, amazon_f1, amazon_preds, amazon_true = evaluate_model(\n",
        "    best_model, amazon_tokenized['test'], \"Amazon Test Set\"\n",
        ")"
      ]
    },
    {
      "cell_type": "code",
      "execution_count": 40,
      "metadata": {
        "colab": {
          "base_uri": "https://localhost:8080/"
        },
        "id": "mUgHh6stlpp-",
        "outputId": "74f3e5a0-0ac0-44fd-9716-57ac0264e3ca"
      },
      "outputs": [
        {
          "name": "stdout",
          "output_type": "stream",
          "text": [
            "Reloading IMDb dataset...\n",
            "IMDb balanced samples: 2500\n"
          ]
        }
      ],
      "source": [
        "# Import numpy\n",
        "import numpy as np\n",
        "\n",
        "# Reload IMDb dataset for cross-domain evaluation\n",
        "print(\"Reloading IMDb dataset...\")\n",
        "imdb_full = load_dataset(\"imdb\")\n",
        "imdb_test = imdb_full['test']\n",
        "\n",
        "# Get balanced sample (1250 each class)\n",
        "negative_samples = [i for i, label in enumerate(imdb_test['label']) if label == 0][:1250]\n",
        "positive_samples = [i for i, label in enumerate(imdb_test['label']) if label == 1][:1250]\n",
        "balanced_indices = negative_samples + positive_samples\n",
        "np.random.shuffle(balanced_indices)\n",
        "\n",
        "imdb_balanced = imdb_test.select(balanced_indices)\n",
        "print(f\"IMDb balanced samples: {len(imdb_balanced)}\")"
      ]
    },
    {
      "cell_type": "code",
      "execution_count": 41,
      "metadata": {
        "colab": {
          "base_uri": "https://localhost:8080/",
          "height": 164
        },
        "id": "JqneD3XfoAkZ",
        "outputId": "db03b78c-4aba-4d1a-ff55-3521f0c24efc"
      },
      "outputs": [
        {
          "name": "stdout",
          "output_type": "stream",
          "text": [
            "\n",
            "============================================================\n",
            "3.2: CROSS-DOMAIN TRANSFER (Amazon \u2192 IMDb)\n",
            "============================================================\n",
            "\n",
            "Evaluating on IMDb Test Set...\n"
          ]
        },
        {
          "data": {
            "text/html": [],
            "text/plain": [
              "<IPython.core.display.HTML object>"
            ]
          },
          "metadata": {},
          "output_type": "display_data"
        },
        {
          "name": "stdout",
          "output_type": "stream",
          "text": [
            "IMDb Test Set Accuracy: 0.9160\n",
            "IMDb Test Set F1 Score: 0.9202\n"
          ]
        }
      ],
      "source": [
        "# 3.2: Cross-domain evaluation on IMDb\n",
        "print(\"\\n\" + \"=\" * 60)\n",
        "print(\"3.2: CROSS-DOMAIN TRANSFER (Amazon \u2192 IMDb)\")\n",
        "print(\"=\" * 60)\n",
        "\n",
        "imdb_accuracy, imdb_f1, imdb_preds, imdb_true = evaluate_model(\n",
        "    best_model, imdb_tokenized, \"IMDb Test Set\"\n",
        ")"
      ]
    },
    {
      "cell_type": "code",
      "execution_count": 42,
      "metadata": {
        "colab": {
          "base_uri": "https://localhost:8080/"
        },
        "id": "nD4SG8G2oVP9",
        "outputId": "6da465a8-7b47-41b0-e7c3-17bcaf0fe4c9"
      },
      "outputs": [
        {
          "name": "stdout",
          "output_type": "stream",
          "text": [
            "\n",
            "==================================================\n",
            "TRANSFER LEARNING PERFORMANCE ANALYSIS\n",
            "==================================================\n",
            "PERFORMANCE SUMMARY:\n",
            "Amazon (Same Domain)    - Accuracy: 0.9364 (93.64%)\n",
            "IMDb (Cross Domain)     - Accuracy: 0.9160 (91.60%)\n",
            "Amazon F1 Score:        0.9407\n",
            "IMDb F1 Score:          0.9202\n",
            "\n",
            "TRANSFER ANALYSIS:\n",
            "Performance Drop:       0.0204 (2.04 percentage points)\n",
            "Performance Retention:  97.82%\n",
            "Transfer Quality:       Excellent\n"
          ]
        }
      ],
      "source": [
        "# 3.3: Performance comparison and analysis\n",
        "print(\"\\n\" + \"=\" * 50)\n",
        "print(\"TRANSFER LEARNING PERFORMANCE ANALYSIS\")\n",
        "print(\"=\" * 50)\n",
        "\n",
        "print(\"PERFORMANCE SUMMARY:\")\n",
        "print(f\"Amazon (Same Domain)    - Accuracy: {amazon_accuracy:.4f} ({amazon_accuracy*100:.2f}%)\")\n",
        "print(f\"IMDb (Cross Domain)     - Accuracy: {imdb_accuracy:.4f} ({imdb_accuracy*100:.2f}%)\")\n",
        "print(f\"Amazon F1 Score:        {amazon_f1:.4f}\")\n",
        "print(f\"IMDb F1 Score:          {imdb_f1:.4f}\")\n",
        "\n",
        "# Performance drop analysis\n",
        "accuracy_drop = amazon_accuracy - imdb_accuracy\n",
        "performance_retention = (imdb_accuracy / amazon_accuracy) * 100\n",
        "\n",
        "print(f\"\\nTRANSFER ANALYSIS:\")\n",
        "print(f\"Performance Drop:       {accuracy_drop:.4f} ({accuracy_drop*100:.2f} percentage points)\")\n",
        "print(f\"Performance Retention:  {performance_retention:.2f}%\")\n",
        "\n",
        "if accuracy_drop < 0.05:\n",
        "    transfer_quality = \"Excellent\"\n",
        "elif accuracy_drop < 0.10:\n",
        "    transfer_quality = \"Good\"\n",
        "elif accuracy_drop < 0.15:\n",
        "    transfer_quality = \"Fair\"\n",
        "else:\n",
        "    transfer_quality = \"Poor\"\n",
        "\n",
        "print(f\"Transfer Quality:       {transfer_quality}\")"
      ]
    },
    {
      "cell_type": "code",
      "execution_count": 43,
      "metadata": {
        "colab": {
          "base_uri": "https://localhost:8080/",
          "height": 625
        },
        "id": "r3v9TXv3odLv",
        "outputId": "9513717e-5e9a-451e-d41d-17f6d195b245"
      },
      "outputs": [
        {
          "data": {
            "image/png": "[encoded data removed]",
            "text/plain": [
              "<Figure size 1500x600 with 4 Axes>"
            ]
          },
          "metadata": {},
          "output_type": "display_data"
        },
        {
          "name": "stdout",
          "output_type": "stream",
          "text": [
            "Confusion matrices generated\n"
          ]
        }
      ],
      "source": [
        "# 3.4: Create confusion matrices for both domains\n",
        "import matplotlib.pyplot as plt\n",
        "import seaborn as sns\n",
        "from sklearn.metrics import confusion_matrix\n",
        "\n",
        "fig, axes = plt.subplots(1, 2, figsize=(15, 6))\n",
        "\n",
        "# Amazon confusion matrix\n",
        "cm_amazon = confusion_matrix(amazon_true, amazon_preds)\n",
        "sns.heatmap(cm_amazon, annot=True, fmt='d', cmap='Blues',\n",
        "            xticklabels=['Negative', 'Positive'],\n",
        "            yticklabels=['Negative', 'Positive'],\n",
        "            ax=axes[0])\n",
        "axes[0].set_title(f'Amazon Test Set\\nAccuracy: {amazon_accuracy:.3f}')\n",
        "axes[0].set_xlabel('Predicted Label')\n",
        "axes[0].set_ylabel('True Label')\n",
        "\n",
        "# IMDb confusion matrix\n",
        "cm_imdb = confusion_matrix(imdb_true, imdb_preds)\n",
        "sns.heatmap(cm_imdb, annot=True, fmt='d', cmap='Oranges',\n",
        "            xticklabels=['Negative', 'Positive'],\n",
        "            yticklabels=['Negative', 'Positive'],\n",
        "            ax=axes[1])\n",
        "axes[1].set_title(f'IMDb Test Set (Transfer)\\nAccuracy: {imdb_accuracy:.3f}')\n",
        "axes[1].set_xlabel('Predicted Label')\n",
        "axes[1].set_ylabel('True Label')\n",
        "\n",
        "plt.tight_layout()\n",
        "plt.show()\n",
        "\n",
        "print(\"Confusion matrices generated\")"
      ]
    },
    {
      "cell_type": "code",
      "execution_count": 44,
      "metadata": {
        "colab": {
          "base_uri": "https://localhost:8080/"
        },
        "id": "AuVft6_MofEK",
        "outputId": "35af01c2-66c5-4588-88e5-30426850b159"
      },
      "outputs": [
        {
          "name": "stdout",
          "output_type": "stream",
          "text": [
            "\n",
            "============================================================\n",
            "3.5: DOMAIN TRANSFER INSIGHTS\n",
            "============================================================\n",
            " ANALYSIS:\n",
            "1. SOURCE DOMAIN: Amazon product reviews (mixed categories)\n",
            "2. TARGET DOMAIN: IMDb movie reviews\n",
            "3. TRANSFER TYPE: Cross-domain sentiment classification\n",
            "\n",
            " KEY FINDINGS:\n",
            "\u2022 Same-domain accuracy: 93.64% (Amazon \u2192 Amazon)\n",
            "\u2022 Cross-domain accuracy: 91.60% (Amazon \u2192 IMDb)\n",
            "\u2022 Performance retention: 97.8%\n",
            "\n",
            " BASELINE COMPARISONS:\n",
            "\u2022 Amazon improvement over random: +43.6 percentage points\n",
            "\u2022 IMDb improvement over random: +41.6 percentage points\n",
            "\n",
            " CONCLUSION: The model shows strong cross-domain transfer capabilities!\n"
          ]
        }
      ],
      "source": [
        "# 3.5: Domain transfer insights\n",
        "print(\"\\n\" + \"=\" * 60)\n",
        "print(\"3.5: DOMAIN TRANSFER INSIGHTS\")\n",
        "print(\"=\" * 60)\n",
        "\n",
        "print(\" ANALYSIS:\")\n",
        "print(\"1. SOURCE DOMAIN: Amazon product reviews (mixed categories)\")\n",
        "print(\"2. TARGET DOMAIN: IMDb movie reviews\")\n",
        "print(\"3. TRANSFER TYPE: Cross-domain sentiment classification\")\n",
        "\n",
        "print(f\"\\n KEY FINDINGS:\")\n",
        "print(f\"\u2022 Same-domain accuracy: {amazon_accuracy*100:.2f}% (Amazon \u2192 Amazon)\")\n",
        "print(f\"\u2022 Cross-domain accuracy: {imdb_accuracy*100:.2f}% (Amazon \u2192 IMDb)\")\n",
        "print(f\"\u2022 Performance retention: {performance_retention:.1f}%\")\n",
        "\n",
        "# Calculate baseline comparison (random would be 50%)\n",
        "baseline_improvement_amazon = (amazon_accuracy - 0.5) * 100\n",
        "baseline_improvement_imdb = (imdb_accuracy - 0.5) * 100\n",
        "\n",
        "print(f\"\\n BASELINE COMPARISONS:\")\n",
        "print(f\"\u2022 Amazon improvement over random: +{baseline_improvement_amazon:.1f} percentage points\")\n",
        "print(f\"\u2022 IMDb improvement over random: +{baseline_improvement_imdb:.1f} percentage points\")\n",
        "\n",
        "if imdb_accuracy > 0.8:\n",
        "    conclusion = \"The model shows strong cross-domain transfer capabilities!\"\n",
        "elif imdb_accuracy > 0.7:\n",
        "    conclusion = \"The model demonstrates good cross-domain generalization.\"\n",
        "elif imdb_accuracy > 0.6:\n",
        "    conclusion = \"The model shows moderate transfer learning success.\"\n",
        "else:\n",
        "    conclusion = \"The model struggles with cross-domain transfer.\"\n",
        "\n",
        "print(f\"\\n CONCLUSION: {conclusion}\")"
      ]
    }
  ],
  "metadata": {
    "accelerator": "GPU",
    "colab": {
      "gpuType": "T4",
      "provenance": []
    },
    "kernelspec": {
      "display_name": "Python 3",
      "name": "python3"
    },
    "language_info": {
      "name": "python"
    }
  },
  "nbformat": 4,
  "nbformat_minor": 0
}